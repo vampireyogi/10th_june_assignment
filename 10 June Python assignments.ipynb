{
 "cells": [
  {
   "cell_type": "markdown",
   "id": "4d2bf68f",
   "metadata": {},
   "source": [
    "1. In Python, what is the difference between a built-in function and a user-defined function? Provide an\n",
    "example of each.\n",
    "- A built-in function is a function that comes with Python and can be used without importing any module. user-defined function is a function that you create yourself to perform a specific task"
   ]
  },
  {
   "cell_type": "code",
   "execution_count": 3,
   "id": "e81b4720",
   "metadata": {},
   "outputs": [
    {
     "name": "stdout",
     "output_type": "stream",
     "text": [
      "\n",
      "\n"
     ]
    }
   ],
   "source": [
    "# example of Built in function\n",
    "print() \n",
    "# example of user defined function\n",
    "def userDefinedFunction():\n",
    "    print()\n",
    "userDefinedFunction()"
   ]
  },
  {
   "cell_type": "markdown",
   "id": "eba319f3",
   "metadata": {},
   "source": [
    "2. How can you pass arguments to a function in Python? Explain the difference between positional\n",
    "arguments and keyword arguments.\n",
    "- Arguments are specified after the function name, inside the parentheses. You can add as many arguments as you want, just separate them with a comma. A positional argument is a name that is not followed by an equal sign (=) and default value. A keyword argument is followed by an equal sign and an expression that gives its default value."
   ]
  },
  {
   "cell_type": "code",
   "execution_count": 17,
   "id": "f9e0b117",
   "metadata": {},
   "outputs": [
    {
     "name": "stdout",
     "output_type": "stream",
     "text": [
      "Hello Ashok Good morning\n",
      "Hello Ashok Good evening\n"
     ]
    }
   ],
   "source": [
    "def greet(name, message):            # multiple arguments\n",
    "    print(\"Hello\",name,message)\n",
    "\n",
    "# Positional arguments\n",
    "greet(\"Ashok\", \"Good morning\")\n",
    "\n",
    "# Keyword arguments\n",
    "greet(message=\"Good evening\", name=\"Ashok\")"
   ]
  },
  {
   "cell_type": "markdown",
   "id": "0162d854",
   "metadata": {},
   "source": [
    "3. What is the purpose of the return statement in a function? Can a function have multiple return\n",
    "statements? Explain with an example.\n",
    "- The return statement in Python is used to end the execution of a function and return a value to the caller. function can only execute one return statement per call. If you use multiple return statements inside conditional blocks, the function will stop as soon as it encounters one of them"
   ]
  },
  {
   "cell_type": "code",
   "execution_count": 29,
   "id": "4d8a503d",
   "metadata": {},
   "outputs": [
    {
     "name": "stdout",
     "output_type": "stream",
     "text": [
      "7\n"
     ]
    }
   ],
   "source": [
    "def calc(num1,num2):\n",
    "    Sum= num1+num2\n",
    "    return Sum\n",
    "    Sub= num1-Num2\n",
    "    return sub\n",
    "\n",
    "print(calc(3,4)) # Function is stop at Sum becauce it encounters first return statement\n",
    "  "
   ]
  },
  {
   "cell_type": "markdown",
   "id": "1d6dc683",
   "metadata": {},
   "source": [
    "4. What are lambda functions in Python? How are they different from regular functions? Provide an\n",
    "example where a lambda function can be useful.\n",
    "- Lambda function in Python is a one-line function that can have any number of arguments but only one expression. lambda function not follow traditional rule to define a function and does not use def keyword."
   ]
  },
  {
   "cell_type": "code",
   "execution_count": 16,
   "id": "25991789",
   "metadata": {},
   "outputs": [
    {
     "name": "stdout",
     "output_type": "stream",
     "text": [
      "78\n"
     ]
    }
   ],
   "source": [
    "# Lambda function is useful where we have to perform one/two operations and using this function one/two times in code\n",
    "\n",
    "max_num=lambda x,y:x if x>y else y\n",
    "print(max_num(34,78))"
   ]
  },
  {
   "cell_type": "markdown",
   "id": "49944480",
   "metadata": {},
   "source": [
    "5. How does the concept of \"scope\" apply to functions in Python? Explain the difference between local\n",
    "scope and global scope.\n",
    "- Scope in Python refers to the visibility and accessibility of variables within different parts of a program. Variables that are defined inside a function body have a local scope, and those defined outside have a global scope."
   ]
  },
  {
   "cell_type": "markdown",
   "id": "643f7346",
   "metadata": {},
   "source": [
    "6. How can you use the \"return\" statement in a Python function to return multiple values?"
   ]
  },
  {
   "cell_type": "code",
   "execution_count": 24,
   "id": "6cc0f6b8",
   "metadata": {},
   "outputs": [
    {
     "name": "stdout",
     "output_type": "stream",
     "text": [
      "Enter num1 6\n",
      "Enter num2 2\n",
      "Sum is : 8.0\n",
      "Difference is : 4.0\n",
      "Multipication is : 4.0\n",
      "Division is : 3.0\n"
     ]
    }
   ],
   "source": [
    "# we can use return statement with dictionary to return multiple values\n",
    "\n",
    "def calc():\n",
    "    a=float(input(\"Enter num1 \"))\n",
    "    b=float(input(\"Enter num2 \"))\n",
    "    \n",
    "    add = a+b\n",
    "    sub = a-b\n",
    "    mul = a*b\n",
    "    div = a/b\n",
    "    # return statement\n",
    "    return {     \n",
    "        \"add\":add,\n",
    "        \"diff\":sub,\n",
    "        \"mul\":a-b,\n",
    "        \"div\":div\n",
    "    }\n",
    "result=calc()\n",
    "print(\"Sum is :\",result[\"add\"])\n",
    "print(\"Difference is :\",result[\"diff\"])\n",
    "print(\"Multipication is :\",result[\"mul\"])\n",
    "print(\"Division is :\",result[\"div\"])"
   ]
  },
  {
   "cell_type": "markdown",
   "id": "821b6d54",
   "metadata": {},
   "source": [
    "7. What is the difference between the \"pass by value\" and \"pass by reference\" concepts when it\n",
    "comes to function arguments in Python?\n",
    "- Pass by value means that the function receives a copy of the argument object, while pass by reference means that the function uses the same object as the caller. In Python, everything is passed by value, but the value is a reference (pointer) to an object. Therefore, Python does not have true pass by reference, but rather pass by object reference.\n"
   ]
  },
  {
   "cell_type": "markdown",
   "id": "305ec64b",
   "metadata": {},
   "source": [
    "8. Create a function that can intake integer or decimal value and do following operations:\n",
    "- a. Logarithmic function (log x)\n",
    "- b. Exponential function (exp(x))\n",
    "- c. Power function with base 2 (2x)\n",
    "- d. Square root"
   ]
  },
  {
   "cell_type": "code",
   "execution_count": 35,
   "id": "5d2b8a53",
   "metadata": {},
   "outputs": [
    {
     "name": "stdout",
     "output_type": "stream",
     "text": [
      "Enter number 9\n",
      "Logarithmic 2.1972245773362196\n",
      "Exponential 8103.083927575384\n",
      "Power 512.0\n",
      "Square root 3.0\n"
     ]
    }
   ],
   "source": [
    "import math\n",
    "def operations():\n",
    "    x=float(input(\"Enter number \"))\n",
    "    #Logarithmic function\n",
    "    logFun=math.log(x)\n",
    "    print(\"Logarithmic\",logFun)\n",
    "    \n",
    "    #Exponential function\n",
    "    expFun=math.exp(x)\n",
    "    print(\"Exponential\",expFun)\n",
    "    \n",
    "    #Power function with base 2\n",
    "    powFun=pow(2,x)\n",
    "    print(\"Power\",powFun)\n",
    "    \n",
    "    #Square root\n",
    "    sqrtFun=math.sqrt(x)\n",
    "    print(\"Square root\",sqrtFun)\n",
    "\n",
    "operations()    "
   ]
  },
  {
   "cell_type": "markdown",
   "id": "6dd7b8f9",
   "metadata": {},
   "source": [
    "9. Create a function that takes a full name as an argument and returns first name and last name."
   ]
  },
  {
   "cell_type": "code",
   "execution_count": 48,
   "id": "3f570340",
   "metadata": {},
   "outputs": [
    {
     "name": "stdout",
     "output_type": "stream",
     "text": [
      "Enter your full name Yogender Sorout\n",
      "First name Yogender\n",
      "Last name sorout\n"
     ]
    }
   ],
   "source": [
    "def name():\n",
    "    fullName=input(\"Enter your full name \").capitalize()\n",
    "    try:\n",
    "        a=fullName.split(\" \")\n",
    "        print(\"First name\",a[0])\n",
    "        print(\"Last name\",a[1])\n",
    "        \n",
    "    except:\n",
    "        print(\"Error! Please enter full name with space\")\n",
    "        \n",
    "name() \n",
    "    "
   ]
  }
 ],
 "metadata": {
  "kernelspec": {
   "display_name": "Python 3 (ipykernel)",
   "language": "python",
   "name": "python3"
  },
  "language_info": {
   "codemirror_mode": {
    "name": "ipython",
    "version": 3
   },
   "file_extension": ".py",
   "mimetype": "text/x-python",
   "name": "python",
   "nbconvert_exporter": "python",
   "pygments_lexer": "ipython3",
   "version": "3.11.3"
  }
 },
 "nbformat": 4,
 "nbformat_minor": 5
}
